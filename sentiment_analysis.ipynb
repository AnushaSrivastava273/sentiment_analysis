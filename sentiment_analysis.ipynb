{
 "cells": [
  {
   "cell_type": "code",
   "execution_count": 1,
   "id": "d86f5e5d-6825-413a-92ca-8591ba5cec6a",
   "metadata": {},
   "outputs": [],
   "source": [
    "import numpy as np\n",
    "import pandas as pd\n"
   ]
  },
  {
   "cell_type": "code",
   "execution_count": 2,
   "id": "902439f0-9f3e-4799-9f7d-b9687c7635a4",
   "metadata": {},
   "outputs": [],
   "source": [
    "df = pd.read_csv('imdb.csv')"
   ]
  },
  {
   "cell_type": "code",
   "execution_count": 3,
   "id": "55092b59-afaf-4b43-89ba-b3da11017e95",
   "metadata": {},
   "outputs": [
    {
     "data": {
      "text/html": [
       "<div>\n",
       "<style scoped>\n",
       "    .dataframe tbody tr th:only-of-type {\n",
       "        vertical-align: middle;\n",
       "    }\n",
       "\n",
       "    .dataframe tbody tr th {\n",
       "        vertical-align: top;\n",
       "    }\n",
       "\n",
       "    .dataframe thead th {\n",
       "        text-align: right;\n",
       "    }\n",
       "</style>\n",
       "<table border=\"1\" class=\"dataframe\">\n",
       "  <thead>\n",
       "    <tr style=\"text-align: right;\">\n",
       "      <th></th>\n",
       "      <th>review</th>\n",
       "      <th>sentiment</th>\n",
       "    </tr>\n",
       "  </thead>\n",
       "  <tbody>\n",
       "    <tr>\n",
       "      <th>0</th>\n",
       "      <td>One of the other reviewers has mentioned that ...</td>\n",
       "      <td>positive</td>\n",
       "    </tr>\n",
       "    <tr>\n",
       "      <th>1</th>\n",
       "      <td>A wonderful little production. &lt;br /&gt;&lt;br /&gt;The...</td>\n",
       "      <td>positive</td>\n",
       "    </tr>\n",
       "    <tr>\n",
       "      <th>2</th>\n",
       "      <td>I thought this was a wonderful way to spend ti...</td>\n",
       "      <td>positive</td>\n",
       "    </tr>\n",
       "    <tr>\n",
       "      <th>3</th>\n",
       "      <td>Basically there's a family where a little boy ...</td>\n",
       "      <td>negative</td>\n",
       "    </tr>\n",
       "    <tr>\n",
       "      <th>4</th>\n",
       "      <td>Petter Mattei's \"Love in the Time of Money\" is...</td>\n",
       "      <td>positive</td>\n",
       "    </tr>\n",
       "  </tbody>\n",
       "</table>\n",
       "</div>"
      ],
      "text/plain": [
       "                                              review sentiment\n",
       "0  One of the other reviewers has mentioned that ...  positive\n",
       "1  A wonderful little production. <br /><br />The...  positive\n",
       "2  I thought this was a wonderful way to spend ti...  positive\n",
       "3  Basically there's a family where a little boy ...  negative\n",
       "4  Petter Mattei's \"Love in the Time of Money\" is...  positive"
      ]
     },
     "execution_count": 3,
     "metadata": {},
     "output_type": "execute_result"
    }
   ],
   "source": [
    "df.head()"
   ]
  },
  {
   "cell_type": "code",
   "execution_count": 4,
   "id": "4b6908cd-b9b0-4dc9-9397-08dcb6a7c848",
   "metadata": {},
   "outputs": [
    {
     "data": {
      "text/plain": [
       "'First of all, let\\'s get a few things straight here: a) I AM an anime fan- always has been as a matter of fact (I used to watch Speed Racer all the time in Preschool). b) I DO like several B-Movies because they\\'re hilarious. c) I like the Godzilla movies- a lot.<br /><br />Moving on, when the movie first comes on, it seems like it\\'s going to be your usual B-movie, down to the crappy FX, but all a sudden- BOOM! the anime comes on! This is when the movie goes WWWAAAAAYYYYY downhill.<br /><br />The animation is VERY bad & cheap, even worse than what I remember from SPEED RACER, for crissakes! In fact, it\\'s so cheap, one of the few scenes from the movie I \"vividly\" remember is when a bunch of kids run out of a school... & it\\'s the same kids over & over again! The FX are terrible, too; the dinosaurs look worse than Godzilla. In addition, the transition to live action to animation is unorganized, the dialogue & voices(especially the English dub that I viewed) was horrid & I was begging my dad to take the tape out of the DVD/ VHS player; The only thing that kept me surviving was cracking out jokes & comments like the robots & Joel/Mike on MST3K (you pick the season). Honestly, this is the only way to barely enjoy this movie & survive it at the same time.<br /><br />Heck, I\\'m planning to show this to another fellow otaku pal of mine on Halloween for a B-Movie night. Because it\\'s stupid, pretty painful to watch & unintentionally hilarious at the same time, I\\'m giving this movie a 3/10, an improvement from the 0.5/10 I was originally going to give it.<br /><br />(According to my grading scale: 3/10 means Pretty much both boring & bad. As fun as counting to three unless you find a way to make fun of it, then it will become as fun as counting to 15.)'"
      ]
     },
     "execution_count": 4,
     "metadata": {},
     "output_type": "execute_result"
    }
   ],
   "source": [
    "#one review\n",
    "df['review'][23]"
   ]
  },
  {
   "cell_type": "markdown",
   "id": "474cb1b8-8982-4663-a6bf-e2e83b77573a",
   "metadata": {},
   "source": [
    "# TEXT CLEANING\n",
    "1.sampling 10000 rows\n",
    "2.remove html TAGS \n",
    "3.remove special characters\n",
    "4.converting every thing to lower case\n",
    "5.removing stop words\n",
    "6.stemming\n"
   ]
  },
  {
   "cell_type": "code",
   "execution_count": 5,
   "id": "513d8cf8-bfde-4b44-8b4b-683e8b8d9217",
   "metadata": {},
   "outputs": [],
   "source": [
    "df = df.sample(10000)"
   ]
  },
  {
   "cell_type": "code",
   "execution_count": 6,
   "id": "0bc77595-01ee-4321-9852-f8286b8bc94f",
   "metadata": {},
   "outputs": [
    {
     "data": {
      "text/plain": [
       "(10000, 2)"
      ]
     },
     "execution_count": 6,
     "metadata": {},
     "output_type": "execute_result"
    }
   ],
   "source": [
    "df.shape"
   ]
  },
  {
   "cell_type": "code",
   "execution_count": 7,
   "id": "6aebe1e3-61da-4a5e-997e-0797d8cc91c3",
   "metadata": {},
   "outputs": [
    {
     "name": "stdout",
     "output_type": "stream",
     "text": [
      "<class 'pandas.core.frame.DataFrame'>\n",
      "Index: 10000 entries, 9604 to 16155\n",
      "Data columns (total 2 columns):\n",
      " #   Column     Non-Null Count  Dtype \n",
      "---  ------     --------------  ----- \n",
      " 0   review     10000 non-null  object\n",
      " 1   sentiment  10000 non-null  object\n",
      "dtypes: object(2)\n",
      "memory usage: 234.4+ KB\n"
     ]
    }
   ],
   "source": [
    "df.info()"
   ]
  },
  {
   "cell_type": "code",
   "execution_count": 8,
   "id": "86d9caf2-6460-4e78-a77c-ca0ec2be3dcc",
   "metadata": {},
   "outputs": [],
   "source": [
    "df['sentiment'].replace({'positive': 1, 'negative': 0}, inplace=True)"
   ]
  },
  {
   "cell_type": "code",
   "execution_count": 9,
   "id": "1940308c-d07a-4f62-a575-d70b88583d63",
   "metadata": {},
   "outputs": [
    {
     "data": {
      "text/html": [
       "<div>\n",
       "<style scoped>\n",
       "    .dataframe tbody tr th:only-of-type {\n",
       "        vertical-align: middle;\n",
       "    }\n",
       "\n",
       "    .dataframe tbody tr th {\n",
       "        vertical-align: top;\n",
       "    }\n",
       "\n",
       "    .dataframe thead th {\n",
       "        text-align: right;\n",
       "    }\n",
       "</style>\n",
       "<table border=\"1\" class=\"dataframe\">\n",
       "  <thead>\n",
       "    <tr style=\"text-align: right;\">\n",
       "      <th></th>\n",
       "      <th>review</th>\n",
       "      <th>sentiment</th>\n",
       "    </tr>\n",
       "  </thead>\n",
       "  <tbody>\n",
       "    <tr>\n",
       "      <th>9604</th>\n",
       "      <td>Big (and we mean plus sized big) baddie Sebast...</td>\n",
       "      <td>0</td>\n",
       "    </tr>\n",
       "    <tr>\n",
       "      <th>33523</th>\n",
       "      <td>I saw this movie previewed before something el...</td>\n",
       "      <td>0</td>\n",
       "    </tr>\n",
       "    <tr>\n",
       "      <th>6478</th>\n",
       "      <td>Paris, JE T'AIME is a wondrous cinematic homag...</td>\n",
       "      <td>1</td>\n",
       "    </tr>\n",
       "    <tr>\n",
       "      <th>15678</th>\n",
       "      <td>Mike Nichols in finest form. I was not a fan o...</td>\n",
       "      <td>1</td>\n",
       "    </tr>\n",
       "    <tr>\n",
       "      <th>15531</th>\n",
       "      <td>I saw this movie at the 2005 Toronto Internati...</td>\n",
       "      <td>1</td>\n",
       "    </tr>\n",
       "  </tbody>\n",
       "</table>\n",
       "</div>"
      ],
      "text/plain": [
       "                                                  review  sentiment\n",
       "9604   Big (and we mean plus sized big) baddie Sebast...          0\n",
       "33523  I saw this movie previewed before something el...          0\n",
       "6478   Paris, JE T'AIME is a wondrous cinematic homag...          1\n",
       "15678  Mike Nichols in finest form. I was not a fan o...          1\n",
       "15531  I saw this movie at the 2005 Toronto Internati...          1"
      ]
     },
     "execution_count": 9,
     "metadata": {},
     "output_type": "execute_result"
    }
   ],
   "source": [
    "df.head()"
   ]
  },
  {
   "cell_type": "markdown",
   "id": "c1a288f3-4922-412f-a450-4966256f36de",
   "metadata": {},
   "source": [
    "# removing the html tags"
   ]
  },
  {
   "cell_type": "code",
   "execution_count": 10,
   "id": "f15cd19e-fdb0-4735-8034-c1fc468ca3a4",
   "metadata": {},
   "outputs": [],
   "source": [
    "import re"
   ]
  },
  {
   "cell_type": "code",
   "execution_count": 11,
   "id": "3c453652-27f9-477b-86d5-ee638d32c7fa",
   "metadata": {},
   "outputs": [],
   "source": [
    "def clean_html(text):\n",
    "    clean = re.compile('<.*?>')\n",
    "    return re.sub(clean ,'',text)"
   ]
  },
  {
   "cell_type": "code",
   "execution_count": 12,
   "id": "b6d5b689-7db2-4f6b-90d0-9bc5573dd3e3",
   "metadata": {},
   "outputs": [],
   "source": [
    "df['review'] = df['review'].apply(clean_html)"
   ]
  },
  {
   "cell_type": "code",
   "execution_count": 13,
   "id": "1a2d5f4b-b175-4bbc-b4aa-1578295ece9b",
   "metadata": {},
   "outputs": [],
   "source": [
    "def convert_lower(text):\n",
    "    return text.lower()"
   ]
  },
  {
   "cell_type": "code",
   "execution_count": 14,
   "id": "e7c93b61-a6cc-4a9b-9db5-a28fad65a0d9",
   "metadata": {},
   "outputs": [],
   "source": [
    "df['review'] = df['review'].apply(convert_lower)"
   ]
  },
  {
   "cell_type": "code",
   "execution_count": 15,
   "id": "0f6bcdc6-ca3d-4060-abf7-da31dcedd105",
   "metadata": {},
   "outputs": [],
   "source": [
    "#function to remove special characters\n",
    "def remove_special(text):\n",
    "    x = []\n",
    "    for i in text:\n",
    "        if i.isalnum():\n",
    "            x.append(i)\n",
    "        else:\n",
    "            x.append(' ')\n",
    "    return ''.join(x)"
   ]
  },
  {
   "cell_type": "code",
   "execution_count": 16,
   "id": "30ae86e1-48ab-4c85-b6f7-29664b1f323a",
   "metadata": {},
   "outputs": [],
   "source": [
    "df['review'] = df['review'].apply(remove_special)"
   ]
  },
  {
   "cell_type": "code",
   "execution_count": 17,
   "id": "ad4181f8-3e27-44f0-ad2b-d42adcba8846",
   "metadata": {},
   "outputs": [],
   "source": [
    "#removing stop words\n",
    "import nltk"
   ]
  },
  {
   "cell_type": "code",
   "execution_count": 18,
   "id": "d381e211-b417-4359-a1be-ff3bb06f750d",
   "metadata": {},
   "outputs": [],
   "source": [
    "from nltk.corpus import stopwords"
   ]
  },
  {
   "cell_type": "code",
   "execution_count": 19,
   "id": "d0963ba3-5955-47d8-9611-8a408e9750ae",
   "metadata": {},
   "outputs": [
    {
     "data": {
      "text/html": [
       "<div>\n",
       "<style scoped>\n",
       "    .dataframe tbody tr th:only-of-type {\n",
       "        vertical-align: middle;\n",
       "    }\n",
       "\n",
       "    .dataframe tbody tr th {\n",
       "        vertical-align: top;\n",
       "    }\n",
       "\n",
       "    .dataframe thead th {\n",
       "        text-align: right;\n",
       "    }\n",
       "</style>\n",
       "<table border=\"1\" class=\"dataframe\">\n",
       "  <thead>\n",
       "    <tr style=\"text-align: right;\">\n",
       "      <th></th>\n",
       "      <th>review</th>\n",
       "      <th>sentiment</th>\n",
       "    </tr>\n",
       "  </thead>\n",
       "  <tbody>\n",
       "    <tr>\n",
       "      <th>9604</th>\n",
       "      <td>big  and we mean plus sized big  baddie sebast...</td>\n",
       "      <td>0</td>\n",
       "    </tr>\n",
       "    <tr>\n",
       "      <th>33523</th>\n",
       "      <td>i saw this movie previewed before something el...</td>\n",
       "      <td>0</td>\n",
       "    </tr>\n",
       "    <tr>\n",
       "      <th>6478</th>\n",
       "      <td>paris  je t aime is a wondrous cinematic homag...</td>\n",
       "      <td>1</td>\n",
       "    </tr>\n",
       "    <tr>\n",
       "      <th>15678</th>\n",
       "      <td>mike nichols in finest form  i was not a fan o...</td>\n",
       "      <td>1</td>\n",
       "    </tr>\n",
       "    <tr>\n",
       "      <th>15531</th>\n",
       "      <td>i saw this movie at the 2005 toronto internati...</td>\n",
       "      <td>1</td>\n",
       "    </tr>\n",
       "    <tr>\n",
       "      <th>...</th>\n",
       "      <td>...</td>\n",
       "      <td>...</td>\n",
       "    </tr>\n",
       "    <tr>\n",
       "      <th>14867</th>\n",
       "      <td>as an adventure mini series  this is about as ...</td>\n",
       "      <td>1</td>\n",
       "    </tr>\n",
       "    <tr>\n",
       "      <th>13022</th>\n",
       "      <td>i used to watch this too at junior school in p...</td>\n",
       "      <td>1</td>\n",
       "    </tr>\n",
       "    <tr>\n",
       "      <th>24791</th>\n",
       "      <td>from the mind of harry alan towers comes anoth...</td>\n",
       "      <td>0</td>\n",
       "    </tr>\n",
       "    <tr>\n",
       "      <th>43552</th>\n",
       "      <td>i really like kinski he is a great actor  i ve...</td>\n",
       "      <td>0</td>\n",
       "    </tr>\n",
       "    <tr>\n",
       "      <th>16155</th>\n",
       "      <td>one of the last classics of the french new wav...</td>\n",
       "      <td>1</td>\n",
       "    </tr>\n",
       "  </tbody>\n",
       "</table>\n",
       "<p>10000 rows × 2 columns</p>\n",
       "</div>"
      ],
      "text/plain": [
       "                                                  review  sentiment\n",
       "9604   big  and we mean plus sized big  baddie sebast...          0\n",
       "33523  i saw this movie previewed before something el...          0\n",
       "6478   paris  je t aime is a wondrous cinematic homag...          1\n",
       "15678  mike nichols in finest form  i was not a fan o...          1\n",
       "15531  i saw this movie at the 2005 toronto internati...          1\n",
       "...                                                  ...        ...\n",
       "14867  as an adventure mini series  this is about as ...          1\n",
       "13022  i used to watch this too at junior school in p...          1\n",
       "24791  from the mind of harry alan towers comes anoth...          0\n",
       "43552  i really like kinski he is a great actor  i ve...          0\n",
       "16155  one of the last classics of the french new wav...          1\n",
       "\n",
       "[10000 rows x 2 columns]"
      ]
     },
     "execution_count": 19,
     "metadata": {},
     "output_type": "execute_result"
    }
   ],
   "source": [
    "df"
   ]
  },
  {
   "cell_type": "code",
   "execution_count": 20,
   "id": "0ade18a7-84df-4b6a-95d7-a7878dd1ef8f",
   "metadata": {},
   "outputs": [
    {
     "name": "stderr",
     "output_type": "stream",
     "text": [
      "[nltk_data] Downloading package stopwords to\n",
      "[nltk_data]     C:\\Users\\anura\\AppData\\Roaming\\nltk_data...\n",
      "[nltk_data]   Package stopwords is already up-to-date!\n"
     ]
    }
   ],
   "source": [
    "from nltk.corpus import stopwords\n",
    "import nltk\n",
    "\n",
    "nltk.download('stopwords')\n",
    "\n",
    "def remove_stopwords(text):\n",
    "    x = []\n",
    "    stop_words = set(stopwords.words('english'))\n",
    "    \n",
    "    for i in text.split():\n",
    "        if i.lower() not in stop_words:  \n",
    "            x.append(i)\n",
    "    \n",
    "    y = x[:]  # Create a copy of x\n",
    "    x.clear()  # Clear x (not necessary, but keeping it as per your request)\n",
    "    \n",
    "    return y  # Returning y instead of a string\n"
   ]
  },
  {
   "cell_type": "code",
   "execution_count": 21,
   "id": "d8947ae2-eb9e-4e20-9f08-b987b8dc3fbf",
   "metadata": {},
   "outputs": [
    {
     "data": {
      "text/html": [
       "<div>\n",
       "<style scoped>\n",
       "    .dataframe tbody tr th:only-of-type {\n",
       "        vertical-align: middle;\n",
       "    }\n",
       "\n",
       "    .dataframe tbody tr th {\n",
       "        vertical-align: top;\n",
       "    }\n",
       "\n",
       "    .dataframe thead th {\n",
       "        text-align: right;\n",
       "    }\n",
       "</style>\n",
       "<table border=\"1\" class=\"dataframe\">\n",
       "  <thead>\n",
       "    <tr style=\"text-align: right;\">\n",
       "      <th></th>\n",
       "      <th>review</th>\n",
       "      <th>sentiment</th>\n",
       "    </tr>\n",
       "  </thead>\n",
       "  <tbody>\n",
       "    <tr>\n",
       "      <th>9604</th>\n",
       "      <td>big  and we mean plus sized big  baddie sebast...</td>\n",
       "      <td>0</td>\n",
       "    </tr>\n",
       "    <tr>\n",
       "      <th>33523</th>\n",
       "      <td>i saw this movie previewed before something el...</td>\n",
       "      <td>0</td>\n",
       "    </tr>\n",
       "    <tr>\n",
       "      <th>6478</th>\n",
       "      <td>paris  je t aime is a wondrous cinematic homag...</td>\n",
       "      <td>1</td>\n",
       "    </tr>\n",
       "    <tr>\n",
       "      <th>15678</th>\n",
       "      <td>mike nichols in finest form  i was not a fan o...</td>\n",
       "      <td>1</td>\n",
       "    </tr>\n",
       "    <tr>\n",
       "      <th>15531</th>\n",
       "      <td>i saw this movie at the 2005 toronto internati...</td>\n",
       "      <td>1</td>\n",
       "    </tr>\n",
       "    <tr>\n",
       "      <th>...</th>\n",
       "      <td>...</td>\n",
       "      <td>...</td>\n",
       "    </tr>\n",
       "    <tr>\n",
       "      <th>14867</th>\n",
       "      <td>as an adventure mini series  this is about as ...</td>\n",
       "      <td>1</td>\n",
       "    </tr>\n",
       "    <tr>\n",
       "      <th>13022</th>\n",
       "      <td>i used to watch this too at junior school in p...</td>\n",
       "      <td>1</td>\n",
       "    </tr>\n",
       "    <tr>\n",
       "      <th>24791</th>\n",
       "      <td>from the mind of harry alan towers comes anoth...</td>\n",
       "      <td>0</td>\n",
       "    </tr>\n",
       "    <tr>\n",
       "      <th>43552</th>\n",
       "      <td>i really like kinski he is a great actor  i ve...</td>\n",
       "      <td>0</td>\n",
       "    </tr>\n",
       "    <tr>\n",
       "      <th>16155</th>\n",
       "      <td>one of the last classics of the french new wav...</td>\n",
       "      <td>1</td>\n",
       "    </tr>\n",
       "  </tbody>\n",
       "</table>\n",
       "<p>10000 rows × 2 columns</p>\n",
       "</div>"
      ],
      "text/plain": [
       "                                                  review  sentiment\n",
       "9604   big  and we mean plus sized big  baddie sebast...          0\n",
       "33523  i saw this movie previewed before something el...          0\n",
       "6478   paris  je t aime is a wondrous cinematic homag...          1\n",
       "15678  mike nichols in finest form  i was not a fan o...          1\n",
       "15531  i saw this movie at the 2005 toronto internati...          1\n",
       "...                                                  ...        ...\n",
       "14867  as an adventure mini series  this is about as ...          1\n",
       "13022  i used to watch this too at junior school in p...          1\n",
       "24791  from the mind of harry alan towers comes anoth...          0\n",
       "43552  i really like kinski he is a great actor  i ve...          0\n",
       "16155  one of the last classics of the french new wav...          1\n",
       "\n",
       "[10000 rows x 2 columns]"
      ]
     },
     "execution_count": 21,
     "metadata": {},
     "output_type": "execute_result"
    }
   ],
   "source": [
    "df"
   ]
  },
  {
   "cell_type": "code",
   "execution_count": 26,
   "id": "c6b3efd6-4382-42b7-bb9b-6fd4c1b10d35",
   "metadata": {},
   "outputs": [],
   "source": [
    "from nltk.stem import PorterStemmer\n",
    "import pandas as pd\n",
    "\n",
    "ps = PorterStemmer()\n",
    "\n",
    "def stem_words(text):\n",
    "    return [ps.stem(word) for word in text.split()]  # Using list comprehension\n",
    "\n",
    "def join_back(list_input):\n",
    "    return ' '.join(list_input) \n",
    "# Apply stemming to the 'review' column\n",
    "df['review'] = df['review'].apply(lambda x: join_back(stem_words(x)))"
   ]
  },
  {
   "cell_type": "code",
   "execution_count": 27,
   "id": "2ef44ebe-9721-4747-99b4-025562f0cfc0",
   "metadata": {},
   "outputs": [
    {
     "data": {
      "text/plain": [
       "9604     big mean plu size big baddi sebastian cabot tr...\n",
       "33523    saw movi preview someth els rent back look dec...\n",
       "6478     pari je aim wondrou cinemat homag citi light c...\n",
       "15678    mike nichol finest form fan closer refresh see...\n",
       "15531    saw movi 2005 toronto intern film festiv base ...\n",
       "                               ...                        \n",
       "14867    adventur mini seri good get view origin shown ...\n",
       "13022    use watch junior school petersfield hampshir a...\n",
       "24791    mind harri alan tower come anoth piec cinemat ...\n",
       "43552    realli like kinski great actor seen movi heard...\n",
       "16155    one last classic french new wave direct cineas...\n",
       "Name: review, Length: 10000, dtype: object"
      ]
     },
     "execution_count": 27,
     "metadata": {},
     "output_type": "execute_result"
    }
   ],
   "source": [
    "df['review']"
   ]
  },
  {
   "cell_type": "code",
   "execution_count": 28,
   "id": "c3016bbe-f551-4b82-8420-eeecc5ee047c",
   "metadata": {},
   "outputs": [],
   "source": [
    "X = df.iloc[: , 0:1].values"
   ]
  },
  {
   "cell_type": "code",
   "execution_count": 33,
   "id": "c4a436bf-1258-4714-bdcc-eae3864cc0ff",
   "metadata": {},
   "outputs": [
    {
     "data": {
      "text/plain": [
       "(10000, 1)"
      ]
     },
     "execution_count": 33,
     "metadata": {},
     "output_type": "execute_result"
    }
   ],
   "source": [
    "X.shape"
   ]
  },
  {
   "cell_type": "code",
   "execution_count": 131,
   "id": "e93d486a-8000-4c76-a1d6-9ab3ea84b7de",
   "metadata": {},
   "outputs": [],
   "source": [
    "from sklearn.feature_extraction.text import CountVectorizer\n",
    "cv = CountVectorizer(max_features=1100)"
   ]
  },
  {
   "cell_type": "code",
   "execution_count": 132,
   "id": "c94be028-13f2-4d70-a7fa-35e7d3213ff1",
   "metadata": {},
   "outputs": [],
   "source": [
    "X = cv.fit_transform(df['review']).toarray()"
   ]
  },
  {
   "cell_type": "code",
   "execution_count": 133,
   "id": "2b08aa21-e0f6-4ff0-8b4a-b3b10824d061",
   "metadata": {},
   "outputs": [
    {
     "data": {
      "text/plain": [
       "(10000, 1100)"
      ]
     },
     "execution_count": 133,
     "metadata": {},
     "output_type": "execute_result"
    }
   ],
   "source": [
    "X.shape"
   ]
  },
  {
   "cell_type": "code",
   "execution_count": 134,
   "id": "593404d3-bb1c-49bf-8c5f-bf97d87d5f5c",
   "metadata": {},
   "outputs": [
    {
     "data": {
      "text/plain": [
       "array([0, 0, 0, ..., 0, 0, 0], dtype=int64)"
      ]
     },
     "execution_count": 134,
     "metadata": {},
     "output_type": "execute_result"
    }
   ],
   "source": [
    "X[0]"
   ]
  },
  {
   "cell_type": "code",
   "execution_count": 135,
   "id": "ace3b1ff-f71e-4173-a094-e89f57dfee7c",
   "metadata": {},
   "outputs": [
    {
     "data": {
      "text/plain": [
       "0.14363636363636365"
      ]
     },
     "execution_count": 135,
     "metadata": {},
     "output_type": "execute_result"
    }
   ],
   "source": [
    "X[0].mean()"
   ]
  },
  {
   "cell_type": "code",
   "execution_count": 136,
   "id": "bca0b929-91cb-4405-b0c9-8420cf0309e0",
   "metadata": {},
   "outputs": [],
   "source": [
    "y = df.iloc[: , -1].values"
   ]
  },
  {
   "cell_type": "code",
   "execution_count": 137,
   "id": "6878d3af-fc96-4f61-a5f5-1174747233c3",
   "metadata": {},
   "outputs": [
    {
     "data": {
      "text/plain": [
       "(10000,)"
      ]
     },
     "execution_count": 137,
     "metadata": {},
     "output_type": "execute_result"
    }
   ],
   "source": [
    "y.shape"
   ]
  },
  {
   "cell_type": "code",
   "execution_count": 138,
   "id": "49dfd103-c992-4107-8e93-f21c893e827b",
   "metadata": {},
   "outputs": [],
   "source": [
    "# X,y\n",
    "# Training set\n",
    "# Test Set(already know the result)"
   ]
  },
  {
   "cell_type": "code",
   "execution_count": 139,
   "id": "35150436-2776-4737-b05e-979dcb942496",
   "metadata": {},
   "outputs": [],
   "source": [
    "from sklearn.model_selection import train_test_split\n",
    "X_train , X_test , y_train , y_test = train_test_split(X,y,test_size = 0.2)"
   ]
  },
  {
   "cell_type": "code",
   "execution_count": 140,
   "id": "3a2b6fa0-a0d6-4604-bb77-9340ffb9aeca",
   "metadata": {},
   "outputs": [
    {
     "data": {
      "text/plain": [
       "(8000, 1100)"
      ]
     },
     "execution_count": 140,
     "metadata": {},
     "output_type": "execute_result"
    }
   ],
   "source": [
    "X_train.shape"
   ]
  },
  {
   "cell_type": "code",
   "execution_count": 141,
   "id": "37deeaa4-684e-4c81-a99b-5fe56cc4724a",
   "metadata": {},
   "outputs": [
    {
     "data": {
      "text/plain": [
       "(2000, 1100)"
      ]
     },
     "execution_count": 141,
     "metadata": {},
     "output_type": "execute_result"
    }
   ],
   "source": [
    "X_test.shape"
   ]
  },
  {
   "cell_type": "code",
   "execution_count": 142,
   "id": "da0df116-74fc-46fe-be49-38c076e70849",
   "metadata": {},
   "outputs": [
    {
     "data": {
      "text/plain": [
       "(8000,)"
      ]
     },
     "execution_count": 142,
     "metadata": {},
     "output_type": "execute_result"
    }
   ],
   "source": [
    "y_train.shape"
   ]
  },
  {
   "cell_type": "code",
   "execution_count": 143,
   "id": "7c30c240-7b02-465f-9792-d32463f147ed",
   "metadata": {},
   "outputs": [
    {
     "data": {
      "text/plain": [
       "(2000,)"
      ]
     },
     "execution_count": 143,
     "metadata": {},
     "output_type": "execute_result"
    }
   ],
   "source": [
    "y_test.shape"
   ]
  },
  {
   "cell_type": "code",
   "execution_count": 144,
   "id": "ce9897bc-a9d2-4481-b338-cd1a4e97ebd8",
   "metadata": {},
   "outputs": [],
   "source": [
    "from sklearn.naive_bayes import GaussianNB , MultinomialNB , BernoulliNB"
   ]
  },
  {
   "cell_type": "code",
   "execution_count": 145,
   "id": "a9907fc0-38ef-4a1c-b7a1-4fe275b9782c",
   "metadata": {},
   "outputs": [],
   "source": [
    "c1f1 = GaussianNB()\n",
    "c1f2 = MultinomialNB()\n",
    "c1f3 = BernoulliNB()"
   ]
  },
  {
   "cell_type": "code",
   "execution_count": 146,
   "id": "a7d5bb90-3660-4dde-b763-90c9878fddf9",
   "metadata": {},
   "outputs": [
    {
     "data": {
      "text/html": [
       "<style>#sk-container-id-6 {color: black;background-color: white;}#sk-container-id-6 pre{padding: 0;}#sk-container-id-6 div.sk-toggleable {background-color: white;}#sk-container-id-6 label.sk-toggleable__label {cursor: pointer;display: block;width: 100%;margin-bottom: 0;padding: 0.3em;box-sizing: border-box;text-align: center;}#sk-container-id-6 label.sk-toggleable__label-arrow:before {content: \"▸\";float: left;margin-right: 0.25em;color: #696969;}#sk-container-id-6 label.sk-toggleable__label-arrow:hover:before {color: black;}#sk-container-id-6 div.sk-estimator:hover label.sk-toggleable__label-arrow:before {color: black;}#sk-container-id-6 div.sk-toggleable__content {max-height: 0;max-width: 0;overflow: hidden;text-align: left;background-color: #f0f8ff;}#sk-container-id-6 div.sk-toggleable__content pre {margin: 0.2em;color: black;border-radius: 0.25em;background-color: #f0f8ff;}#sk-container-id-6 input.sk-toggleable__control:checked~div.sk-toggleable__content {max-height: 200px;max-width: 100%;overflow: auto;}#sk-container-id-6 input.sk-toggleable__control:checked~label.sk-toggleable__label-arrow:before {content: \"▾\";}#sk-container-id-6 div.sk-estimator input.sk-toggleable__control:checked~label.sk-toggleable__label {background-color: #d4ebff;}#sk-container-id-6 div.sk-label input.sk-toggleable__control:checked~label.sk-toggleable__label {background-color: #d4ebff;}#sk-container-id-6 input.sk-hidden--visually {border: 0;clip: rect(1px 1px 1px 1px);clip: rect(1px, 1px, 1px, 1px);height: 1px;margin: -1px;overflow: hidden;padding: 0;position: absolute;width: 1px;}#sk-container-id-6 div.sk-estimator {font-family: monospace;background-color: #f0f8ff;border: 1px dotted black;border-radius: 0.25em;box-sizing: border-box;margin-bottom: 0.5em;}#sk-container-id-6 div.sk-estimator:hover {background-color: #d4ebff;}#sk-container-id-6 div.sk-parallel-item::after {content: \"\";width: 100%;border-bottom: 1px solid gray;flex-grow: 1;}#sk-container-id-6 div.sk-label:hover label.sk-toggleable__label {background-color: #d4ebff;}#sk-container-id-6 div.sk-serial::before {content: \"\";position: absolute;border-left: 1px solid gray;box-sizing: border-box;top: 0;bottom: 0;left: 50%;z-index: 0;}#sk-container-id-6 div.sk-serial {display: flex;flex-direction: column;align-items: center;background-color: white;padding-right: 0.2em;padding-left: 0.2em;position: relative;}#sk-container-id-6 div.sk-item {position: relative;z-index: 1;}#sk-container-id-6 div.sk-parallel {display: flex;align-items: stretch;justify-content: center;background-color: white;position: relative;}#sk-container-id-6 div.sk-item::before, #sk-container-id-6 div.sk-parallel-item::before {content: \"\";position: absolute;border-left: 1px solid gray;box-sizing: border-box;top: 0;bottom: 0;left: 50%;z-index: -1;}#sk-container-id-6 div.sk-parallel-item {display: flex;flex-direction: column;z-index: 1;position: relative;background-color: white;}#sk-container-id-6 div.sk-parallel-item:first-child::after {align-self: flex-end;width: 50%;}#sk-container-id-6 div.sk-parallel-item:last-child::after {align-self: flex-start;width: 50%;}#sk-container-id-6 div.sk-parallel-item:only-child::after {width: 0;}#sk-container-id-6 div.sk-dashed-wrapped {border: 1px dashed gray;margin: 0 0.4em 0.5em 0.4em;box-sizing: border-box;padding-bottom: 0.4em;background-color: white;}#sk-container-id-6 div.sk-label label {font-family: monospace;font-weight: bold;display: inline-block;line-height: 1.2em;}#sk-container-id-6 div.sk-label-container {text-align: center;}#sk-container-id-6 div.sk-container {/* jupyter's `normalize.less` sets `[hidden] { display: none; }` but bootstrap.min.css set `[hidden] { display: none !important; }` so we also need the `!important` here to be able to override the default hidden behavior on the sphinx rendered scikit-learn.org. See: https://github.com/scikit-learn/scikit-learn/issues/21755 */display: inline-block !important;position: relative;}#sk-container-id-6 div.sk-text-repr-fallback {display: none;}</style><div id=\"sk-container-id-6\" class=\"sk-top-container\"><div class=\"sk-text-repr-fallback\"><pre>BernoulliNB()</pre><b>In a Jupyter environment, please rerun this cell to show the HTML representation or trust the notebook. <br />On GitHub, the HTML representation is unable to render, please try loading this page with nbviewer.org.</b></div><div class=\"sk-container\" hidden><div class=\"sk-item\"><div class=\"sk-estimator sk-toggleable\"><input class=\"sk-toggleable__control sk-hidden--visually\" id=\"sk-estimator-id-6\" type=\"checkbox\" checked><label for=\"sk-estimator-id-6\" class=\"sk-toggleable__label sk-toggleable__label-arrow\">BernoulliNB</label><div class=\"sk-toggleable__content\"><pre>BernoulliNB()</pre></div></div></div></div></div>"
      ],
      "text/plain": [
       "BernoulliNB()"
      ]
     },
     "execution_count": 146,
     "metadata": {},
     "output_type": "execute_result"
    }
   ],
   "source": [
    " c1f1.fit(X_train , y_train)\n",
    " c1f2.fit(X_train , y_train)\n",
    " c1f3.fit(X_train , y_train)"
   ]
  },
  {
   "cell_type": "code",
   "execution_count": 151,
   "id": "5001e693-d277-42f8-84d3-12cebd93af3f",
   "metadata": {},
   "outputs": [],
   "source": [
    "y_pred1 = c1f1.predict(X_test)\n",
    "y_pred2 = c1f2.predict(X_test)\n",
    "y_pred3 = c1f3.predict(X_test)"
   ]
  },
  {
   "cell_type": "code",
   "execution_count": 152,
   "id": "f15a0fca-5ce7-462f-b23f-218b5bce838b",
   "metadata": {},
   "outputs": [
    {
     "data": {
      "text/plain": [
       "(2000,)"
      ]
     },
     "execution_count": 152,
     "metadata": {},
     "output_type": "execute_result"
    }
   ],
   "source": [
    "y_pred1.shape"
   ]
  },
  {
   "cell_type": "code",
   "execution_count": 153,
   "id": "308976cc-bb31-4e30-b0f2-325456d0b567",
   "metadata": {},
   "outputs": [],
   "source": [
    "from sklearn.metrics import accuracy_score"
   ]
  },
  {
   "cell_type": "code",
   "execution_count": 154,
   "id": "8af90751-de3b-4a7b-ad1d-c663729afb55",
   "metadata": {},
   "outputs": [
    {
     "name": "stdout",
     "output_type": "stream",
     "text": [
      "Gaussian 0.7945\n",
      "Multinomial 0.846\n",
      "Bernoulli 0.847\n"
     ]
    }
   ],
   "source": [
    "print('Gaussian', accuracy_score(y_test, y_pred1))\n",
    "print('Multinomial', accuracy_score(y_test, y_pred2))\n",
    "print('Bernoulli', accuracy_score(y_test, y_pred3))\n"
   ]
  },
  {
   "cell_type": "code",
   "execution_count": null,
   "id": "617d75c2-afe3-4092-9777-16ea77c66086",
   "metadata": {},
   "outputs": [],
   "source": []
  }
 ],
 "metadata": {
  "kernelspec": {
   "display_name": "Python 3 (ipykernel)",
   "language": "python",
   "name": "python3"
  },
  "language_info": {
   "codemirror_mode": {
    "name": "ipython",
    "version": 3
   },
   "file_extension": ".py",
   "mimetype": "text/x-python",
   "name": "python",
   "nbconvert_exporter": "python",
   "pygments_lexer": "ipython3",
   "version": "3.11.7"
  }
 },
 "nbformat": 4,
 "nbformat_minor": 5
}
